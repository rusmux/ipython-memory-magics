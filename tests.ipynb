{
 "cells": [
  {
   "cell_type": "markdown",
   "id": "a4514cbe",
   "metadata": {},
   "source": [
    "# IPython memory magic commands testing"
   ]
  },
  {
   "cell_type": "code",
   "execution_count": 1,
   "id": "0a35e87c",
   "metadata": {
    "pycharm": {
     "name": "#%%\n"
    }
   },
   "outputs": [],
   "source": [
    "from IPython.core.error import UsageError\n",
    "\n",
    "import memory_magics"
   ]
  },
  {
   "cell_type": "code",
   "execution_count": 2,
   "id": "dd3c3184",
   "metadata": {
    "pycharm": {
     "name": "#%%\n"
    }
   },
   "outputs": [],
   "source": [
    "%reload_ext memory_magics"
   ]
  },
  {
   "cell_type": "markdown",
   "id": "62eb279e",
   "metadata": {},
   "source": [
    "# Version"
   ]
  },
  {
   "cell_type": "code",
   "execution_count": 3,
   "id": "8fd30912",
   "metadata": {},
   "outputs": [
    {
     "name": "stdout",
     "output_type": "stream",
     "text": [
      "0.3.7\n"
     ]
    }
   ],
   "source": [
    "print(memory_magics.__version__)"
   ]
  },
  {
   "cell_type": "markdown",
   "id": "83752d3e",
   "metadata": {
    "pycharm": {
     "name": "#%% md\n"
    }
   },
   "source": [
    "# Line magic"
   ]
  },
  {
   "cell_type": "markdown",
   "id": "0465f457",
   "metadata": {
    "pycharm": {
     "name": "#%% md\n"
    }
   },
   "source": [
    "## Options\n",
    "\n",
    "Testing bare options"
   ]
  },
  {
   "cell_type": "code",
   "execution_count": 4,
   "id": "c4be2741",
   "metadata": {
    "pycharm": {
     "name": "#%%\n"
    }
   },
   "outputs": [],
   "source": [
    "%memory"
   ]
  },
  {
   "cell_type": "code",
   "execution_count": 5,
   "id": "9de283da",
   "metadata": {
    "pycharm": {
     "name": "#%%\n"
    }
   },
   "outputs": [
    {
     "name": "stdout",
     "output_type": "stream",
     "text": [
      "RAM usage: notebook: 67.25 MiB\n"
     ]
    }
   ],
   "source": [
    "%memory -n"
   ]
  },
  {
   "cell_type": "code",
   "execution_count": 6,
   "id": "3fbfc3ab",
   "metadata": {
    "pycharm": {
     "name": "#%%\n"
    }
   },
   "outputs": [
    {
     "name": "stdout",
     "output_type": "stream",
     "text": [
      "RAM usage: jupyter: 156.39 MiB\n"
     ]
    }
   ],
   "source": [
    "%memory -j"
   ]
  },
  {
   "cell_type": "code",
   "execution_count": 7,
   "id": "ac534bfc",
   "metadata": {
    "pycharm": {
     "name": "#%%\n"
    }
   },
   "outputs": [
    {
     "name": "stdout",
     "output_type": "stream",
     "text": [
      "RAM usage: notebook: 67.42 MiB\n",
      "           jupyter:  156.39 MiB\n"
     ]
    }
   ],
   "source": [
    "%memory -n -j"
   ]
  },
  {
   "cell_type": "code",
   "execution_count": 8,
   "id": "5cc72e79",
   "metadata": {
    "pycharm": {
     "name": "#%%\n"
    }
   },
   "outputs": [
    {
     "name": "stdout",
     "output_type": "stream",
     "text": [
      "option -i requires argument ( allowed: \"nji:tq\" notebook jupyter interval= table quiet)\n"
     ]
    }
   ],
   "source": [
    "try:\n",
    "    %memory -i\n",
    "except UsageError as error:\n",
    "    print(error)"
   ]
  },
  {
   "cell_type": "code",
   "execution_count": 9,
   "id": "aa5fff22",
   "metadata": {
    "pycharm": {
     "name": "#%%\n"
    }
   },
   "outputs": [
    {
     "name": "stdout",
     "output_type": "stream",
     "text": [
      "interval must be int or float\n"
     ]
    }
   ],
   "source": [
    "try:\n",
    "    %memory -i print(\"text\")\n",
    "except TypeError as error:\n",
    "    print(error)"
   ]
  },
  {
   "cell_type": "code",
   "execution_count": 10,
   "id": "bf3c88ff",
   "metadata": {
    "pycharm": {
     "name": "#%%\n"
    }
   },
   "outputs": [
    {
     "name": "stdout",
     "output_type": "stream",
     "text": [
      "interval must be greater than or equal to 10 milliseconds\n"
     ]
    }
   ],
   "source": [
    "try:\n",
    "    %memory -i -1\n",
    "except ValueError as error:\n",
    "    print(error)"
   ]
  },
  {
   "cell_type": "code",
   "execution_count": 11,
   "id": "cbae6f3b",
   "metadata": {
    "pycharm": {
     "name": "#%%\n"
    }
   },
   "outputs": [],
   "source": [
    "%memory -i 10"
   ]
  },
  {
   "cell_type": "code",
   "execution_count": 12,
   "id": "79da7e19",
   "metadata": {
    "pycharm": {
     "name": "#%%\n"
    }
   },
   "outputs": [],
   "source": [
    "%memory -q"
   ]
  },
  {
   "cell_type": "code",
   "execution_count": 13,
   "id": "81eceee5",
   "metadata": {
    "pycharm": {
     "name": "#%%\n"
    }
   },
   "outputs": [],
   "source": [
    "%memory -t"
   ]
  },
  {
   "cell_type": "code",
   "execution_count": 14,
   "id": "8a58d523",
   "metadata": {
    "pycharm": {
     "name": "#%%\n"
    }
   },
   "outputs": [
    {
     "name": "stdout",
     "output_type": "stream",
     "text": [
      "RAM usage |   current   |     peak     |\n",
      "----------------------------------------\n",
      " notebook | 67.56 MiB   |      --      |\n",
      " jupyter  | 156.58 MiB  |      --      |\n"
     ]
    }
   ],
   "source": [
    "%memory -n -j -t"
   ]
  },
  {
   "cell_type": "code",
   "execution_count": 15,
   "id": "7dd6f9ca",
   "metadata": {
    "pycharm": {
     "name": "#%%\n"
    }
   },
   "outputs": [
    {
     "name": "stdout",
     "output_type": "stream",
     "text": [
      "RAM usage |   current   |     peak     |\n",
      "----------------------------------------\n",
      " notebook | 67.62 MiB   |      --      |\n",
      " jupyter  | 156.66 MiB  |      --      |\n"
     ]
    }
   ],
   "source": [
    "%memory -n -j -t -i 10"
   ]
  },
  {
   "cell_type": "markdown",
   "id": "f428a688",
   "metadata": {
    "pycharm": {
     "name": "#%% md\n"
    }
   },
   "source": [
    "## Microbenchmark\n",
    "\n",
    "Testing a line that consumes a very small amount of memory."
   ]
  },
  {
   "cell_type": "code",
   "execution_count": 16,
   "id": "e53e681c",
   "metadata": {
    "pycharm": {
     "name": "#%%\n"
    }
   },
   "outputs": [
    {
     "name": "stdout",
     "output_type": "stream",
     "text": [
      "test\n",
      "RAM usage: line: 935 B / 52.53 KiB\n"
     ]
    }
   ],
   "source": [
    "%memory print(\"test\")"
   ]
  },
  {
   "cell_type": "code",
   "execution_count": 17,
   "id": "ee9f7d4b",
   "metadata": {
    "pycharm": {
     "name": "#%%\n"
    }
   },
   "outputs": [
    {
     "name": "stdout",
     "output_type": "stream",
     "text": [
      "test\n",
      "RAM usage: line:     943 B       / 52.67 KiB  \n",
      "           notebook: 67.69 MiB   / 67.69 MiB  \n"
     ]
    }
   ],
   "source": [
    "%memory -n print(\"test\")"
   ]
  },
  {
   "cell_type": "code",
   "execution_count": 18,
   "id": "54680956",
   "metadata": {
    "pycharm": {
     "name": "#%%\n"
    }
   },
   "outputs": [
    {
     "name": "stdout",
     "output_type": "stream",
     "text": [
      "test\n",
      "RAM usage: line:    879 B       / 52.6 KiB   \n",
      "           jupyter: 155.17 MiB  / 155.17 MiB \n"
     ]
    }
   ],
   "source": [
    "%memory -j print(\"test\")"
   ]
  },
  {
   "cell_type": "code",
   "execution_count": 19,
   "id": "68dc7872",
   "metadata": {
    "pycharm": {
     "name": "#%%\n"
    }
   },
   "outputs": [
    {
     "name": "stdout",
     "output_type": "stream",
     "text": [
      "test\n",
      "RAM usage: line:     623 B       / 52.6 KiB   \n",
      "           notebook: 67.73 MiB   / 67.73 MiB  \n",
      "           jupyter:  155.19 MiB  / 155.19 MiB \n"
     ]
    }
   ],
   "source": [
    "%memory -n -j print(\"test\")"
   ]
  },
  {
   "cell_type": "code",
   "execution_count": 20,
   "id": "c60caac6",
   "metadata": {
    "pycharm": {
     "name": "#%%\n"
    }
   },
   "outputs": [
    {
     "name": "stdout",
     "output_type": "stream",
     "text": [
      "test\n",
      "RAM usage |   current   |     peak     |\n",
      "----------------------------------------\n",
      " line     | 857 B       | 52.64 KiB    |\n",
      " notebook | 67.75 MiB   | 67.75 MiB    |\n",
      " jupyter  | 155.2 MiB   | 155.2 MiB    |\n"
     ]
    }
   ],
   "source": [
    "%memory -n -j -t -i 20 print(\"test\")"
   ]
  },
  {
   "cell_type": "markdown",
   "id": "c42ec6b1",
   "metadata": {
    "pycharm": {
     "name": "#%% md\n"
    }
   },
   "source": [
    "## Line"
   ]
  },
  {
   "cell_type": "code",
   "execution_count": 21,
   "id": "663515eb",
   "metadata": {
    "pycharm": {
     "name": "#%%\n"
    }
   },
   "outputs": [
    {
     "name": "stdout",
     "output_type": "stream",
     "text": [
      "RAM usage: line: 34.33 MiB / 34.33 MiB\n"
     ]
    }
   ],
   "source": [
    "%memory -q list(range(10**6))"
   ]
  },
  {
   "cell_type": "code",
   "execution_count": 22,
   "id": "fb52f3bd",
   "metadata": {
    "pycharm": {
     "name": "#%%\n"
    }
   },
   "outputs": [
    {
     "name": "stdout",
     "output_type": "stream",
     "text": [
      "RAM usage: line:     34.33 MiB   / 34.33 MiB  \n",
      "           notebook: 204.56 MiB  / 204.56 MiB \n"
     ]
    }
   ],
   "source": [
    "%memory -n -q list(range(10**6))"
   ]
  },
  {
   "cell_type": "code",
   "execution_count": 23,
   "id": "7fd6b73b",
   "metadata": {
    "pycharm": {
     "name": "#%%\n"
    }
   },
   "outputs": [
    {
     "name": "stdout",
     "output_type": "stream",
     "text": [
      "RAM usage: line:    34.33 MiB   / 34.33 MiB  \n",
      "           jupyter: 296.27 MiB  / 296.25 MiB \n"
     ]
    }
   ],
   "source": [
    "%memory -j -q list(range(10**6))"
   ]
  },
  {
   "cell_type": "code",
   "execution_count": 24,
   "id": "439eb1f0",
   "metadata": {
    "pycharm": {
     "name": "#%%\n"
    }
   },
   "outputs": [
    {
     "name": "stdout",
     "output_type": "stream",
     "text": [
      "RAM usage |   current   |     peak     |\n",
      "----------------------------------------\n",
      " line     | 34.33 MiB   | 34.33 MiB    |\n",
      " notebook | 228.72 MiB  | 228.72 MiB   |\n",
      " jupyter  | 312.11 MiB  | 312.08 MiB   |\n"
     ]
    }
   ],
   "source": [
    "%memory -n -j -q -t -i 20 list(range(10**6))"
   ]
  },
  {
   "cell_type": "markdown",
   "id": "61b64edf",
   "metadata": {
    "pycharm": {
     "name": "#%% md\n"
    }
   },
   "source": [
    "## Line sequence"
   ]
  },
  {
   "cell_type": "code",
   "execution_count": 25,
   "id": "45430183",
   "metadata": {
    "pycharm": {
     "name": "#%%\n"
    }
   },
   "outputs": [
    {
     "name": "stdout",
     "output_type": "stream",
     "text": [
      "test\n",
      "RAM usage: line: 1.31 KiB / 34.33 MiB\n"
     ]
    }
   ],
   "source": [
    "%memory list(range(10**6)); print(\"test\")"
   ]
  },
  {
   "cell_type": "code",
   "execution_count": 26,
   "id": "5dad7662",
   "metadata": {
    "pycharm": {
     "name": "#%%\n"
    }
   },
   "outputs": [
    {
     "name": "stdout",
     "output_type": "stream",
     "text": [
      "test\n",
      "RAM usage: line:     1.27 KiB    / 34.33 MiB  \n",
      "           notebook: 198.33 MiB  / 228.83 MiB \n"
     ]
    }
   ],
   "source": [
    "%memory -n list(range(10**6)); print(\"test\")"
   ]
  },
  {
   "cell_type": "code",
   "execution_count": 27,
   "id": "8d943d48",
   "metadata": {
    "pycharm": {
     "name": "#%%\n"
    }
   },
   "outputs": [
    {
     "name": "stdout",
     "output_type": "stream",
     "text": [
      "test\n",
      "RAM usage: line:    1.89 KiB    / 34.33 MiB  \n",
      "           jupyter: 291.0 MiB   / 319.7 MiB  \n"
     ]
    }
   ],
   "source": [
    "%memory -j list(range(10**6)); print(\"test\")"
   ]
  },
  {
   "cell_type": "code",
   "execution_count": 28,
   "id": "61da6e5c",
   "metadata": {
    "pycharm": {
     "name": "#%%\n"
    }
   },
   "outputs": [
    {
     "name": "stdout",
     "output_type": "stream",
     "text": [
      "test\n",
      "RAM usage |   current   |     peak     |\n",
      "----------------------------------------\n",
      " line     | 1.14 KiB    | 34.33 MiB    |\n",
      " notebook | 217.64 MiB  | 246.62 MiB   |\n",
      " jupyter  | 301.0 MiB   | 329.98 MiB   |\n"
     ]
    }
   ],
   "source": [
    "%memory -n -j -t -i 20 list(range(10**6)); print(\"test\")"
   ]
  },
  {
   "cell_type": "markdown",
   "id": "37f6dab6",
   "metadata": {
    "pycharm": {
     "name": "#%% md\n"
    }
   },
   "source": [
    "# Cell magic"
   ]
  },
  {
   "cell_type": "markdown",
   "id": "30419e6d",
   "metadata": {
    "pycharm": {
     "name": "#%% md\n"
    }
   },
   "source": [
    "## Microbenchmark\n",
    "\n",
    "Testing a cell that consumes a very small amount of memory."
   ]
  },
  {
   "cell_type": "code",
   "execution_count": 29,
   "id": "2320201e",
   "metadata": {
    "pycharm": {
     "name": "#%%\n"
    }
   },
   "outputs": [
    {
     "name": "stdout",
     "output_type": "stream",
     "text": [
      "RAM usage: cell: 790 B / 53.35 KiB\n"
     ]
    },
    {
     "data": {
      "text/plain": [
       "'test'"
      ]
     },
     "execution_count": 29,
     "metadata": {},
     "output_type": "execute_result"
    }
   ],
   "source": [
    "%%memory\n",
    "variable = \"test\"\n",
    "variable"
   ]
  },
  {
   "cell_type": "code",
   "execution_count": 30,
   "id": "110f882c",
   "metadata": {
    "pycharm": {
     "name": "#%%\n"
    }
   },
   "outputs": [
    {
     "name": "stdout",
     "output_type": "stream",
     "text": [
      "RAM usage: cell:     881 B       / 53.35 KiB  \n",
      "           notebook: 217.73 MiB  / 217.73 MiB \n"
     ]
    },
    {
     "data": {
      "text/plain": [
       "'test'"
      ]
     },
     "execution_count": 30,
     "metadata": {},
     "output_type": "execute_result"
    }
   ],
   "source": [
    "%%memory -n\n",
    "variable = \"test\"\n",
    "variable"
   ]
  },
  {
   "cell_type": "code",
   "execution_count": 31,
   "id": "fe62301a",
   "metadata": {
    "pycharm": {
     "name": "#%%\n"
    }
   },
   "outputs": [
    {
     "name": "stdout",
     "output_type": "stream",
     "text": [
      "RAM usage: cell:    561 B       / 53.35 KiB  \n",
      "           jupyter: 301.11 MiB  / 301.11 MiB \n"
     ]
    },
    {
     "data": {
      "text/plain": [
       "'test'"
      ]
     },
     "execution_count": 31,
     "metadata": {},
     "output_type": "execute_result"
    }
   ],
   "source": [
    "%%memory -j\n",
    "variable = \"test\"\n",
    "variable"
   ]
  },
  {
   "cell_type": "code",
   "execution_count": 32,
   "id": "bedb1695",
   "metadata": {
    "pycharm": {
     "name": "#%%\n"
    }
   },
   "outputs": [
    {
     "name": "stdout",
     "output_type": "stream",
     "text": [
      "RAM usage |   current   |     peak     |\n",
      "----------------------------------------\n",
      " cell     | 881 B       | 53.35 KiB    |\n",
      " notebook | 217.75 MiB  | 217.75 MiB   |\n",
      " jupyter  | 301.12 MiB  | 301.12 MiB   |\n"
     ]
    },
    {
     "data": {
      "text/plain": [
       "'test'"
      ]
     },
     "execution_count": 32,
     "metadata": {},
     "output_type": "execute_result"
    }
   ],
   "source": [
    "%%memory -n -j -t -i 20\n",
    "variable = \"test\"\n",
    "variable"
   ]
  },
  {
   "cell_type": "markdown",
   "id": "da5b3f05",
   "metadata": {
    "pycharm": {
     "name": "#%% md\n"
    }
   },
   "source": [
    "## Cell"
   ]
  },
  {
   "cell_type": "code",
   "execution_count": 33,
   "id": "dffa1637",
   "metadata": {
    "pycharm": {
     "name": "#%%\n"
    }
   },
   "outputs": [
    {
     "name": "stdout",
     "output_type": "stream",
     "text": [
      "RAM usage: cell: 34.33 MiB / 34.33 MiB\n"
     ]
    }
   ],
   "source": [
    "%%memory -q\n",
    "test_list = list(range(10**6))"
   ]
  },
  {
   "cell_type": "code",
   "execution_count": 34,
   "id": "4c583699",
   "metadata": {
    "pycharm": {
     "name": "#%%\n"
    }
   },
   "outputs": [
    {
     "name": "stdout",
     "output_type": "stream",
     "text": [
      "RAM usage: cell:     1.26 KiB    / 34.33 MiB  \n",
      "           notebook: 207.2 MiB   / 268.5 MiB  \n"
     ]
    }
   ],
   "source": [
    "%%memory -n\n",
    "test_list = list(range(10**6))\n",
    "del test_list"
   ]
  },
  {
   "cell_type": "code",
   "execution_count": 35,
   "id": "c2bf7ac3",
   "metadata": {
    "pycharm": {
     "name": "#%%\n"
    }
   },
   "outputs": [
    {
     "name": "stdout",
     "output_type": "stream",
     "text": [
      "RAM usage: cell:    1.19 KiB    / 34.33 MiB  \n",
      "           jupyter: 299.03 MiB  / 328.02 MiB \n"
     ]
    }
   ],
   "source": [
    "%%memory -j\n",
    "test_list = list(range(10**6))\n",
    "del test_list"
   ]
  },
  {
   "cell_type": "code",
   "execution_count": 36,
   "id": "d9be2c86",
   "metadata": {
    "pycharm": {
     "name": "#%%\n"
    }
   },
   "outputs": [
    {
     "name": "stdout",
     "output_type": "stream",
     "text": [
      "RAM usage |   current   |     peak     |\n",
      "----------------------------------------\n",
      " cell     | 836 B       | 34.33 MiB    |\n",
      " notebook | 216.17 MiB  | 246.03 MiB   |\n",
      " jupyter  | 299.03 MiB  | 328.89 MiB   |\n"
     ]
    }
   ],
   "source": [
    "%%memory -n -j -q -t -i 20\n",
    "test_list = list(range(10**6))\n",
    "del test_list"
   ]
  },
  {
   "cell_type": "code",
   "execution_count": 37,
   "id": "c54bad94",
   "metadata": {
    "pycharm": {
     "name": "#%%\n"
    }
   },
   "outputs": [
    {
     "name": "stdout",
     "output_type": "stream",
     "text": [
      "RAM usage |   current   |     peak     |\n",
      "----------------------------------------\n",
      " cell     | 34.33 MiB   | 34.33 MiB    |\n",
      " notebook | 246.75 MiB  | 246.75 MiB   |\n",
      " jupyter  | 329.61 MiB  | 329.61 MiB   |\n"
     ]
    },
    {
     "data": {
      "text/plain": [
       "499999500000"
      ]
     },
     "execution_count": 37,
     "metadata": {},
     "output_type": "execute_result"
    }
   ],
   "source": [
    "%%memory -n -j -t\n",
    "test_list = list(range(10**6))\n",
    "sum(test_list)"
   ]
  }
 ],
 "metadata": {
  "hide_input": false,
  "kernelspec": {
   "display_name": "Python 3 (ipykernel)",
   "language": "python",
   "name": "python3"
  },
  "language_info": {
   "codemirror_mode": {
    "name": "ipython",
    "version": 3
   },
   "file_extension": ".py",
   "mimetype": "text/x-python",
   "name": "python",
   "nbconvert_exporter": "python",
   "pygments_lexer": "ipython3",
   "version": "3.8.5"
  },
  "toc": {
   "base_numbering": 1,
   "nav_menu": {},
   "number_sections": false,
   "sideBar": true,
   "skip_h1_title": false,
   "title_cell": "Table of Contents",
   "title_sidebar": "Contents",
   "toc_cell": false,
   "toc_position": {},
   "toc_section_display": true,
   "toc_window_display": false
  },
  "toc-autonumbering": false,
  "toc-showcode": false,
  "toc-showmarkdowntxt": false,
  "toc-showtags": false,
  "varInspector": {
   "cols": {
    "lenName": "40",
    "lenType": 16,
    "lenVar": "16"
   },
   "kernels_config": {
    "python": {
     "delete_cmd_postfix": "",
     "delete_cmd_prefix": "del ",
     "library": "var_list.py",
     "varRefreshCmd": "print(var_dic_list())"
    },
    "r": {
     "delete_cmd_postfix": ") ",
     "delete_cmd_prefix": "rm(",
     "library": "var_list.r",
     "varRefreshCmd": "cat(var_dic_list()) "
    }
   },
   "types_to_exclude": [
    "module",
    "function",
    "builtin_function_or_method",
    "instance",
    "_Feature"
   ],
   "window_display": false
  }
 },
 "nbformat": 4,
 "nbformat_minor": 5
}
